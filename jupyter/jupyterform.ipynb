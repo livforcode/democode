{
 "cells": [
  {
   "cell_type": "code",
   "execution_count": 1,
   "metadata": {},
   "outputs": [],
   "source": [
    "import pandas as pd"
   ]
  },
  {
   "cell_type": "code",
   "execution_count": 2,
   "metadata": {},
   "outputs": [],
   "source": [
    "df=pd.read_excel('动漫数据.xlsx')"
   ]
  },
  {
   "cell_type": "code",
   "execution_count": 3,
   "metadata": {},
   "outputs": [
    {
     "data": {
      "text/html": [
       "<div>\n",
       "<style scoped>\n",
       "    .dataframe tbody tr th:only-of-type {\n",
       "        vertical-align: middle;\n",
       "    }\n",
       "\n",
       "    .dataframe tbody tr th {\n",
       "        vertical-align: top;\n",
       "    }\n",
       "\n",
       "    .dataframe thead th {\n",
       "        text-align: right;\n",
       "    }\n",
       "</style>\n",
       "<table border=\"1\" class=\"dataframe\">\n",
       "  <thead>\n",
       "    <tr style=\"text-align: right;\">\n",
       "      <th></th>\n",
       "      <th>Unnamed: 0</th>\n",
       "      <th>title</th>\n",
       "      <th>subTitle</th>\n",
       "      <th>score</th>\n",
       "      <th>order</th>\n",
       "      <th>time</th>\n",
       "      <th>table</th>\n",
       "      <th>area</th>\n",
       "    </tr>\n",
       "  </thead>\n",
       "  <tbody>\n",
       "    <tr>\n",
       "      <th>0</th>\n",
       "      <td>0</td>\n",
       "      <td>鬼灭之刃 刀匠村篇</td>\n",
       "      <td>信念锻刃，尽斩恶鬼</td>\n",
       "      <td>9.2</td>\n",
       "      <td>1564.5万追番</td>\n",
       "      <td>2023-06-03 20:00:00</td>\n",
       "      <td>漫画改 奇幻 热血 战斗</td>\n",
       "      <td>日本</td>\n",
       "    </tr>\n",
       "    <tr>\n",
       "      <th>1</th>\n",
       "      <td>1</td>\n",
       "      <td>鬼灭之刃 游郭篇</td>\n",
       "      <td>斩断鬼所栖身的夜</td>\n",
       "      <td>9.7</td>\n",
       "      <td>1409.3万追番</td>\n",
       "      <td>2022-03-05 20:00:00</td>\n",
       "      <td>漫画改 热血 战斗 奇幻</td>\n",
       "      <td>日本</td>\n",
       "    </tr>\n",
       "    <tr>\n",
       "      <th>2</th>\n",
       "      <td>2</td>\n",
       "      <td>鬼灭之刃 无限列车篇</td>\n",
       "      <td>潜入无限的梦境中</td>\n",
       "      <td>9.8</td>\n",
       "      <td>1333万追番</td>\n",
       "      <td>2021-11-17 20:00:00</td>\n",
       "      <td>漫画改 热血 战斗 奇幻</td>\n",
       "      <td>日本</td>\n",
       "    </tr>\n",
       "    <tr>\n",
       "      <th>3</th>\n",
       "      <td>3</td>\n",
       "      <td>鬼灭之刃</td>\n",
       "      <td>谁都斩不断的羁绊</td>\n",
       "      <td>9.7</td>\n",
       "      <td>1267.4万追番</td>\n",
       "      <td>2019-04-07 00:00:00</td>\n",
       "      <td>漫画改 战斗 热血 声控</td>\n",
       "      <td>日本</td>\n",
       "    </tr>\n",
       "    <tr>\n",
       "      <th>4</th>\n",
       "      <td>4</td>\n",
       "      <td>咒术回战 第二季</td>\n",
       "      <td>天上天下，唯我独尊</td>\n",
       "      <td>9.4</td>\n",
       "      <td>1242.3万追番</td>\n",
       "      <td>2023-08-24 20:00:00</td>\n",
       "      <td>漫画改 热血 战斗 奇幻</td>\n",
       "      <td>日本</td>\n",
       "    </tr>\n",
       "  </tbody>\n",
       "</table>\n",
       "</div>"
      ],
      "text/plain": [
       "   Unnamed: 0       title   subTitle  score      order                 time  \\\n",
       "0           0   鬼灭之刃 刀匠村篇  信念锻刃，尽斩恶鬼    9.2  1564.5万追番  2023-06-03 20:00:00   \n",
       "1           1    鬼灭之刃 游郭篇   斩断鬼所栖身的夜    9.7  1409.3万追番  2022-03-05 20:00:00   \n",
       "2           2  鬼灭之刃 无限列车篇   潜入无限的梦境中    9.8    1333万追番  2021-11-17 20:00:00   \n",
       "3           3        鬼灭之刃   谁都斩不断的羁绊    9.7  1267.4万追番  2019-04-07 00:00:00   \n",
       "4           4    咒术回战 第二季  天上天下，唯我独尊    9.4  1242.3万追番  2023-08-24 20:00:00   \n",
       "\n",
       "          table area  \n",
       "0  漫画改 奇幻 热血 战斗   日本  \n",
       "1  漫画改 热血 战斗 奇幻   日本  \n",
       "2  漫画改 热血 战斗 奇幻   日本  \n",
       "3  漫画改 战斗 热血 声控   日本  \n",
       "4  漫画改 热血 战斗 奇幻   日本  "
      ]
     },
     "execution_count": 3,
     "metadata": {},
     "output_type": "execute_result"
    }
   ],
   "source": [
    "df.head()"
   ]
  },
  {
   "cell_type": "code",
   "execution_count": 7,
   "metadata": {},
   "outputs": [],
   "source": [
    "m=df.iloc[0:10]\n",
    "m1=df.iloc[0:10]\n",
    "m2=df.iloc[0:10]\n",
    "m3=df.iloc[0:10]\n",
    "m4=df.iloc[0:10]\n",
    "m5=df.iloc[0:10]\n",
    "m6=df.iloc[0:10]\n",
    "m7=df.iloc[0:10]"
   ]
  },
  {
   "cell_type": "code",
   "execution_count": null,
   "metadata": {},
   "outputs": [],
   "source": []
  }
 ],
 "metadata": {
  "kernelspec": {
   "display_name": "Python 3",
   "language": "python",
   "name": "python3"
  },
  "language_info": {
   "codemirror_mode": {
    "name": "ipython",
    "version": 3
   },
   "file_extension": ".py",
   "mimetype": "text/x-python",
   "name": "python",
   "nbconvert_exporter": "python",
   "pygments_lexer": "ipython3",
   "version": "3.9.13"
  }
 },
 "nbformat": 4,
 "nbformat_minor": 2
}
